{
 "cells": [
  {
   "cell_type": "markdown",
   "id": "76670138",
   "metadata": {},
   "source": [
    "## Working with Amazon Transcribe and Amazon Translate\n",
    "In this exercise, you will use Amazon Transcribe to create a transcript for a video application. You will then use Amazon Translate to translate the transcript into Brazilian Portuguese.\n",
    "\n",
    "The video application loads subtitles from the transcribe.json file. You will use Amazon Transcribe through the AWS Command Line Interface (AWS CLI) to process the supplied video, Raf01_320.mov, and create a corrected transcribe.json file.\n",
    "\n",
    "Finally, you will use Amazon Translate to correct the translation in the translated.json file by completing and running the supplied transcribe_translate.py Python script.\n",
    "\n",
    "## Task 1: Running the application\n",
    "In this task, you run the sample video application for the first time.\n",
    "\n",
    "1. If you didn’t complete the first exercise, install the AWS SDK for Python (Boto3) and extract the exercise source:"
   ]
  },
  {
   "cell_type": "raw",
   "id": "f2fdd65f",
   "metadata": {},
   "source": [
    "pip install boto3\n",
    "wget https://aws-tc-largeobjects.s3.us-west-2.amazonaws.com/DEV-AWS-MO-MachineLearning/downloads/exercise-source.zip\n",
    "unzip exercise-source.zip"
   ]
  },
  {
   "cell_type": "markdown",
   "id": "697c526d",
   "metadata": {},
   "source": [
    "Next, you will run the web application.\n",
    "\n",
    "2. Use a new terminal window to launch the Python web server.\n",
    "\n",
    "You will keep the web server running for the remainder of the exercise."
   ]
  },
  {
   "cell_type": "raw",
   "id": "85500524",
   "metadata": {},
   "source": [
    "cd exercise-transcribe-translate\n",
    "python3 -m http.server 8080"
   ]
  },
  {
   "cell_type": "markdown",
   "id": "30a8e486",
   "metadata": {},
   "source": [
    "The application should now be running.\n",
    "\n",
    "3. If you are using AWS Cloud9, you can preview the application by choosing Preview and then choosing Preview Running Application.\n",
    "\n",
    "4. If you are using your own Python environment, access the application on http://localhost:8080/.\n",
    "\n",
    "5. In the application, play the video to see the animation for the transcript and translation.\n",
    "\n",
    "The application should display both the placeholder transcription from the transcribe.json file and the placeholder translation from the translated.json file.\n",
    "\n",
    "## Task 2: Updating the transcript\n",
    "In this task, you create the updated transcribe.json. This task is an open challenge.\n",
    "\n",
    "1. Use the AWS CLI to create a transcription job.\n",
    "\n",
    "Note For more information, see start-transcription-job in the AWS CLI documentation.\n",
    "\n",
    "The transcription will take a few minutes to run.\n",
    "\n",
    "2. After the transcription is complete, retrieve the completed transcript by using get-transcription-job.\n",
    "\n",
    "3. Capture the output into transcribe.json, and refresh the web application.\n",
    "\n",
    "Do you see the updated transcription text that was returned from Amazon Transcribe?\n",
    "\n",
    "If you are stuck, expand the following solution."
   ]
  },
  {
   "cell_type": "markdown",
   "id": "1df56760",
   "metadata": {},
   "source": [
    "- Create a bucket to store the video file. The name of the S3 bucket must be globally unique."
   ]
  },
  {
   "cell_type": "raw",
   "id": "cc16ac2b",
   "metadata": {},
   "source": [
    "aws s3 mb s3://<unique-bucket-name>"
   ]
  },
  {
   "cell_type": "markdown",
   "id": "aab89f17",
   "metadata": {},
   "source": [
    "- Copy the video file to the S3 bucket."
   ]
  },
  {
   "cell_type": "raw",
   "id": "a9609960",
   "metadata": {},
   "source": [
    "aws s3 cp Raf01_320.mov s3://<unique-bucket-name>"
   ]
  },
  {
   "cell_type": "markdown",
   "id": "f345766d",
   "metadata": {},
   "source": [
    "- Start the transcription job."
   ]
  },
  {
   "cell_type": "raw",
   "id": "9f43228e",
   "metadata": {},
   "source": [
    "aws transcribe start-transcription-job \\\n",
    " --transcription-job-name attempt01 \\\n",
    " --media MediaFileUri=s3://<unique-bucket-name>/Raf01_320.mov \\\n",
    " --language-code pt-BR"
   ]
  },
  {
   "cell_type": "markdown",
   "id": "c0e7efe9",
   "metadata": {},
   "source": [
    "- After the job is complete, retrieve the transcription URI."
   ]
  },
  {
   "cell_type": "raw",
   "id": "064aa29c",
   "metadata": {},
   "source": [
    "aws transcribe get-transcription-job \\\n",
    " --transcription-job-name attempt01 \\\n",
    " --query TranscriptionJob.Transcript.TranscriptFileUri \\\n",
    " --output text"
   ]
  },
  {
   "cell_type": "markdown",
   "id": "1bc9d805",
   "metadata": {},
   "source": [
    "- Retrieve the transcription URI and overwrite the transcribe.json file."
   ]
  },
  {
   "cell_type": "raw",
   "id": "e6461a18",
   "metadata": {},
   "source": [
    "curl $(aws transcribe get-transcription-job \\\n",
    " --transcription-job-name attempt01 \\\n",
    " --query TranscriptionJob.Transcript.TranscriptFileUri \\\n",
    " --output text) > transcribe.json"
   ]
  },
  {
   "cell_type": "markdown",
   "id": "e29dd5b2",
   "metadata": {},
   "source": [
    "## Task 3: Updating the translation\n",
    "1. Open the transcribe_translate.py script in an editor.\n",
    "\n",
    "2. Locate the Replace this code comment.\n",
    "\n",
    "3. Replace the placeholder code with solution code that sets the translated_text variable with the translation from Amazon Transcribe.\n",
    "\n",
    "4. Test your updates by running the script with python3 transcribe_translate.py.\n",
    "\n",
    "5. When you are satisfied with your changes, replace the existing translated.json file."
   ]
  },
  {
   "cell_type": "raw",
   "id": "d23e591c",
   "metadata": {},
   "source": [
    "python3 transcribe_translate.py > translated.json\n",
    "Copy to clipboard\n",
    "Refresh the web application."
   ]
  },
  {
   "cell_type": "markdown",
   "id": "8987cba0",
   "metadata": {},
   "source": [
    "6. Refresh the web application.\n",
    "\n",
    "Do you see the translated text from Amazon Transcribe at the bottom of the application?\n",
    "\n",
    "If you get stuck, see the working solution in the solution-transcribe-translate folder.\n",
    "\n",
    "## Task 4: Cleaning up\n",
    "Remove the bucket that you created at the start of the exercise."
   ]
  },
  {
   "cell_type": "raw",
   "id": "ac87571e",
   "metadata": {},
   "source": [
    "# ensure the bucket is empty\n",
    "aws s3 rm s3://<unique-bucket-name>/Raf01_320.mov\n",
    "aws s3 rb s3://<unique-bucket-name>"
   ]
  }
 ],
 "metadata": {
  "kernelspec": {
   "display_name": "Python 3 (ipykernel)",
   "language": "python",
   "name": "python3"
  },
  "language_info": {
   "codemirror_mode": {
    "name": "ipython",
    "version": 3
   },
   "file_extension": ".py",
   "mimetype": "text/x-python",
   "name": "python",
   "nbconvert_exporter": "python",
   "pygments_lexer": "ipython3",
   "version": "3.8.8"
  }
 },
 "nbformat": 4,
 "nbformat_minor": 5
}
