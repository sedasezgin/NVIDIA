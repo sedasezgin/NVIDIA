{
 "cells": [
  {
   "cell_type": "markdown",
   "id": "27f55070",
   "metadata": {},
   "source": [
    "## Working with Amazon Rekognition"
   ]
  },
  {
   "cell_type": "markdown",
   "id": "6612e631",
   "metadata": {},
   "source": [
    "In this exercise, you will use Amazon Rekognition to improve the search results for an images application. The application relies on a file, build/data.json, to populate an image search.\n",
    "\n",
    "This exercise also includes an incomplete Python script, which you will update to create the build/data.json file that the application expects.\n",
    "\n",
    "## Task 1: Creating an AWS Cloud9 environment\n",
    "For this task, you create an AWS Cloud9 environment, which you will use as your development environment throughout the course exercises.\n",
    "\n",
    "This exercise can be run anywhere, if you have a Python environment and access to the Amazon Rekognition API operations. The instructions explain how to use AWS Cloud9. If you are already familiar with Python and accessing AWS API operations, you might want to complete the exercises in an environment that suits you.\n",
    "\n",
    "The exercises can be completed in any Region where Amazon Rekognition is offered. For the full list of supported Regions, see Amazon Rekognition endpoints and quotas. If you’re not sure which Region to use, use the Oregon us-west-2 Region.\n",
    "\n",
    "- In the AWS Management Console, choose Services, and then search for and open Cloud9.\n",
    "\n",
    "- Choose Create environment and for Name, enter AWS-MachineLearning.\n",
    "\n",
    "- Choose Next step.\n",
    "\n",
    "- Keep the default settings, and choose Next step.\n",
    "\n",
    "- Choose Create environment.\n",
    "\n",
    "## Task 2: Running the application\n",
    "In this task, you use the sample application for the first time."
   ]
  },
  {
   "cell_type": "markdown",
   "id": "2344359f",
   "metadata": {},
   "source": [
    "1. In a terminal window for your environment, install the AWS SDK for Python (Boto3):"
   ]
  },
  {
   "cell_type": "code",
   "execution_count": null,
   "id": "8333a2c8",
   "metadata": {},
   "outputs": [],
   "source": [
    "pip install boto3"
   ]
  },
  {
   "cell_type": "markdown",
   "id": "3b37310a",
   "metadata": {},
   "source": [
    "2. Download and extract the exercise source files."
   ]
  },
  {
   "cell_type": "code",
   "execution_count": null,
   "id": "2ece9d94",
   "metadata": {},
   "outputs": [],
   "source": [
    "wget https://aws-tc-largeobjects.s3.amazonaws.com/DEV-AWS-MO-MachineLearning/downloads/exercise-source.zip\n",
    "unzip exercise-source.zip"
   ]
  },
  {
   "cell_type": "markdown",
   "id": "35b09862",
   "metadata": {},
   "source": [
    "The .zip file extracts into all the code that you will use in the exercises. You should see folders for each exercise, and a solution folder for each exercise challenge."
   ]
  },
  {
   "cell_type": "code",
   "execution_count": null,
   "id": "c9c552c9",
   "metadata": {},
   "outputs": [],
   "source": [
    ".\n",
    "├── exercise-rekognition\n",
    "├── exercise-textract\n",
    "├── exercise-transcribe-translate\n",
    "├── solution-rekognition\n",
    "├── solution-textract\n",
    "└── solution-transcribe-translate  "
   ]
  },
  {
   "cell_type": "markdown",
   "id": "9bfb319a",
   "metadata": {},
   "source": [
    "3. Change to the exercise folder, and run the build_json.py script."
   ]
  },
  {
   "cell_type": "code",
   "execution_count": null,
   "id": "91392d35",
   "metadata": {},
   "outputs": [],
   "source": [
    "cd exercise-rekognition\n",
    "python3 build_json.py"
   ]
  },
  {
   "cell_type": "markdown",
   "id": "4e8030fa",
   "metadata": {},
   "source": [
    "4. Open the script and inspect it in a text editor window.\n",
    "\n",
    "Even if you aren’t familiar with Python, you should be able to follow the code. The code loops through all the files in public/photos/*.jpeg, reads all the bytes of the image file, and sends this data to the detect_labels API.\n",
    "\n",
    "The build_json.py script is used to create the build/data.json that’s needed for the web application. Currently, the data is placeholder data. Your challenge is to update the script so that it uses the labels that are returned from Amazon Rekognition.\n",
    "\n",
    "5. Save the output of build_json.py to the build/data.json location."
   ]
  },
  {
   "cell_type": "code",
   "execution_count": null,
   "id": "b074da4b",
   "metadata": {},
   "outputs": [],
   "source": [
    "python3 build_json.py > build/data.json"
   ]
  },
  {
   "cell_type": "markdown",
   "id": "51f35b16",
   "metadata": {},
   "source": [
    "Next, you will launch the web application in the exercise-rekognition/build folder.\n",
    "\n",
    "6. Use a new terminal window to launch the Python web server."
   ]
  },
  {
   "cell_type": "code",
   "execution_count": null,
   "id": "a235ced5",
   "metadata": {},
   "outputs": [],
   "source": [
    "python3 -m http.server 8080 -d build"
   ]
  },
  {
   "cell_type": "markdown",
   "id": "63f7f126",
   "metadata": {},
   "source": [
    "The application should now be running. You will keep the web server running for the remainder of the exercise.\n",
    "\n",
    "7. If you are using AWS Cloud9, you can preview the application by choosing Preview and then choosing Preview Running Application.\n",
    "\n",
    "Note In AWS Cloud9, the application might be compressed in the preview window. To view the application in a new browser tab, choose the Pop Out Into New Window icon.\n",
    "\n",
    "8. If you are using your own Python environment, access the application at http://localhost:8080/.\n",
    "\n",
    "The application should display the placeholder labels in the build/data.json file."
   ]
  },
  {
   "cell_type": "markdown",
   "id": "e06bb9fd",
   "metadata": {},
   "source": [
    "## Task 3: Updating the application\n",
    "Open the build_json.py script in a text editor.\n",
    "\n",
    "Locate the Replace this code comment.\n",
    "\n",
    "Replace the code that creates the placeholder labels with code that uses the labels from Amazon Rekognition.\n",
    "\n",
    "To test your updates, run the script by using the python3 build_json.py command.\n",
    "\n",
    "When you are satisfied with your changes, replace the existing build/data.json file."
   ]
  },
  {
   "cell_type": "code",
   "execution_count": null,
   "id": "c3192d4c",
   "metadata": {},
   "outputs": [],
   "source": [
    "python3 build_json.py > build/data.json"
   ]
  },
  {
   "cell_type": "markdown",
   "id": "99a981ca",
   "metadata": {},
   "source": [
    "Refresh the web application.\n",
    "\n",
    "Do you see the labels that were created by the Amazon Rekognition detect_labels API operation?\n",
    "\n",
    "If you get stuck, see the working solution in the solution-rekognition folder."
   ]
  },
  {
   "cell_type": "markdown",
   "id": "c238a644",
   "metadata": {},
   "source": [
    "## Note for ReactJS developers\n",
    "The source code for the ReactJS web application is in the exercise-rekognition folder. You are welcome to inspect the code and make upgrades to the application."
   ]
  }
 ],
 "metadata": {
  "kernelspec": {
   "display_name": "Python 3 (ipykernel)",
   "language": "python",
   "name": "python3"
  },
  "language_info": {
   "codemirror_mode": {
    "name": "ipython",
    "version": 3
   },
   "file_extension": ".py",
   "mimetype": "text/x-python",
   "name": "python",
   "nbconvert_exporter": "python",
   "pygments_lexer": "ipython3",
   "version": "3.8.8"
  }
 },
 "nbformat": 4,
 "nbformat_minor": 5
}
