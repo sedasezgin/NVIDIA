{
 "cells": [
  {
   "cell_type": "markdown",
   "id": "7b0d30cb",
   "metadata": {},
   "source": [
    "## Working with Amazon Comprehend\n",
    "In this exercise, you will use Amazon Comprehend to process the movie-feedback comma-separated values (CSV) file to retrieve the sentiment for each movie review.\n",
    "\n",
    "## Task 1: Running the application\n",
    "In this task, you use the sample Amazon Comprehend application for the first time.\n",
    "\n",
    "1. If you didn’t complete the first exercise, install the AWS SDK for Python (Boto3) and extract the exercise source:"
   ]
  },
  {
   "cell_type": "code",
   "execution_count": null,
   "id": "d17bb33a",
   "metadata": {},
   "outputs": [],
   "source": [
    "pip install boto3\n",
    "wget https://aws-tc-largeobjects.s3.amazonaws.com/DEV-AWS-MO-MachineLearning/downloads/exercise-source.zip\n",
    "unzip exercise-source.zip"
   ]
  },
  {
   "cell_type": "markdown",
   "id": "bed8b422",
   "metadata": {},
   "source": [
    "2. Next, run the application that’s in main.py."
   ]
  },
  {
   "cell_type": "code",
   "execution_count": null,
   "id": "92fb9832",
   "metadata": {},
   "outputs": [],
   "source": [
    "cd exercise-comprehend\n",
    "python3 main.py"
   ]
  },
  {
   "cell_type": "markdown",
   "id": "ac30e73f",
   "metadata": {},
   "source": [
    "The application exits with two Missing required parameter in input errors.\n",
    "\n",
    "## Task 2: Updating the application.\n",
    "In this task, you complete the missing code in main.py. This task is an open challenge.\n",
    "\n",
    "1. Read the documentation for batch_detect_sentiment.\n",
    "\n",
    "2. Update the call to batch_detect_sentiment with all the required parameters.\n",
    "\n",
    "3. Run the application again.\n",
    "\n",
    "Do you see the sentiment results that were returned from Amazon Textract?\n",
    "\n",
    "If you get stuck, see the working solution in the solution-comprehend folder."
   ]
  }
 ],
 "metadata": {
  "kernelspec": {
   "display_name": "Python 3 (ipykernel)",
   "language": "python",
   "name": "python3"
  },
  "language_info": {
   "codemirror_mode": {
    "name": "ipython",
    "version": 3
   },
   "file_extension": ".py",
   "mimetype": "text/x-python",
   "name": "python",
   "nbconvert_exporter": "python",
   "pygments_lexer": "ipython3",
   "version": "3.8.8"
  }
 },
 "nbformat": 4,
 "nbformat_minor": 5
}
