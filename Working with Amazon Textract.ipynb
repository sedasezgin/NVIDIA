{
 "cells": [
  {
   "cell_type": "markdown",
   "id": "1267a24a",
   "metadata": {},
   "source": [
    "## Working with Amazon Textract\n",
    "In this exercise, you will use Amazon Textract to extract text from handwritten movie-review cards.\n",
    "\n",
    "## Task 1: Running the application\n",
    "In this task, you use the sample Amazon Textract application for the first time.\n",
    "\n",
    "1. If you didn’t complete the first exercise, install the AWS SDK for Python (Boto3) and extract the exercise source:"
   ]
  },
  {
   "cell_type": "code",
   "execution_count": null,
   "id": "065bf981",
   "metadata": {},
   "outputs": [],
   "source": [
    "pip install boto3\n",
    "wget https://aws-tc-largeobjects.s3.amazonaws.com/DEV-AWS-MO-MachineLearning/downloads/exercise-source.zip\n",
    "unzip exercise-source.zip"
   ]
  },
  {
   "cell_type": "markdown",
   "id": "099a5eb3",
   "metadata": {},
   "source": [
    "2. Next, run the application that’s in main.py."
   ]
  },
  {
   "cell_type": "code",
   "execution_count": null,
   "id": "88b5ad91",
   "metadata": {},
   "outputs": [],
   "source": [
    "cd exercise-textract\n",
    "python3 main.py"
   ]
  },
  {
   "cell_type": "markdown",
   "id": "5434d08d",
   "metadata": {},
   "source": [
    "The application will run, process the files in the raw_images directory, and display comma-separated values (CSV) output with placeholder data.\n",
    "\n",
    "## Task 2: Updating the application\n",
    "In this task, you complete the missing code in main.py. This task is an open challenge.\n",
    "\n",
    "1. Locate the placeholder in main.py:"
   ]
  },
  {
   "cell_type": "code",
   "execution_count": null,
   "id": "b4355d82",
   "metadata": {},
   "outputs": [],
   "source": [
    "#####\n",
    "# Replace this code with a solution to populate a dictionary with the results from textract\n",
    "#####\n",
    "csv_row[\"ResponseId\"] = \"Sample-123\"\n",
    "csv_row[\"Notes\"] = \"Sample-I liked the movie.\""
   ]
  },
  {
   "cell_type": "markdown",
   "id": "b116e533",
   "metadata": {},
   "source": [
    "1. Update the two lines of code with the ResponseId and Notes that are returned from the analyze_document API operation.\n",
    "\n",
    "2. Run the application again.\n",
    "\n",
    "Do you see the text that was extracted from the images by Amazon Textract?\n",
    "\n",
    "If you get stuck, see the working solution in the solution-textract folder."
   ]
  }
 ],
 "metadata": {
  "kernelspec": {
   "display_name": "Python 3 (ipykernel)",
   "language": "python",
   "name": "python3"
  },
  "language_info": {
   "codemirror_mode": {
    "name": "ipython",
    "version": 3
   },
   "file_extension": ".py",
   "mimetype": "text/x-python",
   "name": "python",
   "nbconvert_exporter": "python",
   "pygments_lexer": "ipython3",
   "version": "3.8.8"
  }
 },
 "nbformat": 4,
 "nbformat_minor": 5
}
